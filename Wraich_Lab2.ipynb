{
  "nbformat": 4,
  "nbformat_minor": 0,
  "metadata": {
    "colab": {
      "provenance": [],
      "authorship_tag": "ABX9TyNmiY3//3aQIVPj96LypB1a",
      "include_colab_link": true
    },
    "kernelspec": {
      "name": "python3",
      "display_name": "Python 3"
    },
    "language_info": {
      "name": "python"
    }
  },
  "cells": [
    {
      "cell_type": "markdown",
      "metadata": {
        "id": "view-in-github",
        "colab_type": "text"
      },
      "source": [
        "<a href=\"https://colab.research.google.com/github/poshpixiw/beginning-r-4/blob/main/Wraich_Lab2.ipynb\" target=\"_parent\"><img src=\"https://colab.research.google.com/assets/colab-badge.svg\" alt=\"Open In Colab\"/></a>"
      ]
    },
    {
      "cell_type": "code",
      "execution_count": 14,
      "metadata": {
        "colab": {
          "base_uri": "https://localhost:8080/",
          "height": 110
        },
        "id": "dAt66yr9fUZL",
        "outputId": "fb1bd3b3-39a0-401c-84d3-61509b249ab8"
      },
      "outputs": [
        {
          "output_type": "error",
          "ename": "IndentationError",
          "evalue": "unexpected indent (<ipython-input-14-e28e4ca17167>, line 50)",
          "traceback": [
            "\u001b[0;36m  File \u001b[0;32m\"<ipython-input-14-e28e4ca17167>\"\u001b[0;36m, line \u001b[0;32m50\u001b[0m\n\u001b[0;31m    target = 'Thorium Data'\u001b[0m\n\u001b[0m    ^\u001b[0m\n\u001b[0;31mIndentationError\u001b[0m\u001b[0;31m:\u001b[0m unexpected indent\n"
          ]
        }
      ],
      "source": [
        "#Wraich_Lab2\n",
        "\n",
        "#Step One: Source Data & Set up Notebook\n",
        "from google.colab import files\n",
        "import numpy as np\n",
        "import pandas as pd\n",
        "import matplotlib.pyplot as plt\n",
        "import seaborn as sns\n",
        "from sklearn.model_selection import train_test_split\n",
        "from sklearn.preprocessing import StandardScaler, OneHotEncoder\n",
        "from sklearn.compose import ColumnTransformer\n",
        "from sklearn.pipeline import Pipeline\n",
        "#################################################################################\n",
        "#Step Two: Load and Describe the Data Set\n",
        "#Source of data\n",
        "#https://www.sciencebase.gov/catalog/item/5e616381e4b01d509255c7b6\n",
        "#The Critical Minerals in Archived Mine Samples Database (CMDB) is a\n",
        "#valuable resource containing detailed chemistry and geologic information\n",
        "#on rock samples from historic mining sites in the U.S. and around the world.\n",
        "# The dataset includes samples from ore deposits in the United States and 27\n",
        "#other countries across North America, South America, Asia, Africa, and Europe.\n",
        "#Created by the U.S. Geological Survey, the CMDB focuses on \"critical minerals\"\n",
        "#—rare and essential metals needed for modern technology like electronics,\n",
        "#renewable energy, and transportation.These samples, sourced from archived\n",
        "#collections at institutions like the Colorado School of Mines and the\n",
        "#Mackay School of Mines, help scientists assess the remaining supply of\n",
        "#these minerals in previously mined locations, offering insights into\n",
        "#the availability of critical resources for the future\n",
        "\n",
        "\n",
        "# Upload the file\n",
        "uploaded = files.upload()\n",
        "\n",
        "# Load the dataset\n",
        "data = pd.read_csv(next(iter(uploaded)), encoding='latin1') # using 'latin1' or 'ISO-8859-1' encoding\n",
        "\n",
        "# Display the first few rows to confirm it's loaded correctly\n",
        "data.head()\n",
        "#################################################################################\n",
        "#Step Three: Initial Data Analysis & Visualization Plots\n",
        "print(data.columns)\n",
        "data.info()\n",
        "data.describe()\n",
        "\n",
        "################################################################################\n",
        "#Step Four: Target Selection & Data Splitting\n",
        "from sklearn.model_selection import train_test_split\n",
        "\n",
        "# Define target variable and features\n",
        " target = 'Thorium Data'\n",
        "    X = data.drop(columns=[target])  # Features\n",
        "    y = data[target]  # Target\n",
        "\n",
        "    # Split data: 80% training, 20% testing\n",
        "    X_train, X_test, y_train, y_test = train_test_split(X, y, test_size=0.2, random_state=42)\n",
        "\n",
        "    # Display the shapes of the split datasets\n",
        "    print(\"X_train shape:\", X_train.shape)\n",
        "    print(\"X_test shape:\", X_test.shape)\n",
        "    print(\"y_train shape:\", y_train.shape)\n",
        "\n",
        "################################################################################\n",
        "#Step Five: Geographical and Correlational Analysis\n",
        "train_set, test_set = train_test_split(data, test_size=0.2, random_state=42)\n",
        "\n",
        "################################################################################\n",
        "#Step Six: Data Preperation for ML\n",
        "#Generate a correlation matrix & identify pairs with strong correlations.\n",
        "# Calculate the correlation matrix\n",
        "# Select only numeric columns for correlation analysis\n",
        "numeric_data = data.select_dtypes(include=np.number)\n",
        "correlation_matrix = numeric_data.corr()\n",
        "\n",
        "# Display the correlation matrix as a heatmap\n",
        "plt.figure(figsize=(12, 8))\n",
        "sns.heatmap(correlation_matrix, annot=True, cmap='coolwarm', fmt=\".2f\")\n",
        "plt.title('Correlation Matrix')\n",
        "plt.show()\n",
        "\n",
        "#Step Seven: Data Preparation for ML\n"
      ]
    }
  ]
}