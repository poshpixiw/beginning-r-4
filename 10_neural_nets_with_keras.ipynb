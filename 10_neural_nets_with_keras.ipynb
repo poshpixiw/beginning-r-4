{
  "cells": [
    {
      "cell_type": "markdown",
      "metadata": {
        "id": "2_w90712Qcj3"
      },
      "source": [
        "**Chapter 10 – Introduction to Artificial Neural Networks with Keras**"
      ]
    },
    {
      "cell_type": "markdown",
      "metadata": {
        "id": "4C3iszjVQcj4"
      },
      "source": [
        "_This notebook contains all the sample code and solutions to the exercises in chapter 10._"
      ]
    },
    {
      "cell_type": "markdown",
      "metadata": {
        "id": "ep9d5qX_Qcj5"
      },
      "source": [
        "<table align=\"left\">\n",
        "  <td>\n",
        "    <a href=\"https://colab.research.google.com/github/ageron/handson-ml3/blob/main/10_neural_nets_with_keras.ipynb\" target=\"_parent\"><img src=\"https://colab.research.google.com/assets/colab-badge.svg\" alt=\"Open In Colab\"/></a>\n",
        "  </td>\n",
        "  <td>\n",
        "    <a target=\"_blank\" href=\"https://kaggle.com/kernels/welcome?src=https://github.com/ageron/handson-ml3/blob/main/10_neural_nets_with_keras.ipynb\"><img src=\"https://kaggle.com/static/images/open-in-kaggle.svg\" /></a>\n",
        "  </td>\n",
        "</table>"
      ]
    },
    {
      "cell_type": "markdown",
      "metadata": {
        "tags": [],
        "id": "ylg1YOhcQcj5"
      },
      "source": [
        "# Setup"
      ]
    },
    {
      "cell_type": "markdown",
      "metadata": {
        "id": "BAtuWPbPQcj5"
      },
      "source": [
        "This project requires Python 3.7 or above:"
      ]
    },
    {
      "cell_type": "code",
      "execution_count": 1,
      "metadata": {
        "id": "Df0ogY0gQcj5"
      },
      "outputs": [],
      "source": [
        "import sys\n",
        "\n",
        "assert sys.version_info >= (3, 7)"
      ]
    },
    {
      "cell_type": "markdown",
      "metadata": {
        "id": "SPXEihwIQcj6"
      },
      "source": [
        "It also requires Scikit-Learn ≥ 1.0.1:"
      ]
    },
    {
      "cell_type": "code",
      "execution_count": 2,
      "metadata": {
        "id": "dNrLTdADQcj6"
      },
      "outputs": [],
      "source": [
        "from packaging import version\n",
        "import sklearn\n",
        "\n",
        "assert version.parse(sklearn.__version__) >= version.parse(\"1.0.1\")"
      ]
    },
    {
      "cell_type": "markdown",
      "metadata": {
        "id": "6jkv0PQuQcj6"
      },
      "source": [
        "And TensorFlow ≥ 2.8:"
      ]
    },
    {
      "cell_type": "code",
      "execution_count": 3,
      "metadata": {
        "id": "t7-fmBAxQcj6"
      },
      "outputs": [],
      "source": [
        "import tensorflow as tf\n",
        "\n",
        "assert version.parse(tf.__version__) >= version.parse(\"2.8.0\")"
      ]
    },
    {
      "cell_type": "markdown",
      "metadata": {
        "id": "Ov0-Vd6YQcj6"
      },
      "source": [
        "As we did in previous chapters, let's define the default font sizes to make the figures prettier:"
      ]
    },
    {
      "cell_type": "code",
      "execution_count": 4,
      "metadata": {
        "id": "KGJ__2-uQcj6"
      },
      "outputs": [],
      "source": [
        "import matplotlib.pyplot as plt\n",
        "\n",
        "plt.rc('font', size=14)\n",
        "plt.rc('axes', labelsize=14, titlesize=14)\n",
        "plt.rc('legend', fontsize=14)\n",
        "plt.rc('xtick', labelsize=10)\n",
        "plt.rc('ytick', labelsize=10)"
      ]
    },
    {
      "cell_type": "markdown",
      "metadata": {
        "id": "jW-2cvcXQcj6"
      },
      "source": [
        "And let's create the `images/ann` folder (if it doesn't already exist), and define the `save_fig()` function which is used through this notebook to save the figures in high-res for the book:"
      ]
    },
    {
      "cell_type": "code",
      "execution_count": 5,
      "metadata": {
        "id": "pOL6nINIQcj7"
      },
      "outputs": [],
      "source": [
        "from pathlib import Path\n",
        "\n",
        "IMAGES_PATH = Path() / \"images\" / \"ann\"\n",
        "IMAGES_PATH.mkdir(parents=True, exist_ok=True)\n",
        "\n",
        "def save_fig(fig_id, tight_layout=True, fig_extension=\"png\", resolution=300):\n",
        "    path = IMAGES_PATH / f\"{fig_id}.{fig_extension}\"\n",
        "    if tight_layout:\n",
        "        plt.tight_layout()\n",
        "    plt.savefig(path, format=fig_extension, dpi=resolution)"
      ]
    },
    {
      "cell_type": "markdown",
      "metadata": {
        "id": "ZsSpfsvFQcj7"
      },
      "source": [
        "# From Biological to Artificial Neurons\n",
        "## The Perceptron"
      ]
    },
    {
      "cell_type": "code",
      "execution_count": 6,
      "metadata": {
        "id": "NFYci1xKQcj7"
      },
      "outputs": [],
      "source": [
        "import numpy as np\n",
        "from sklearn.datasets import load_iris\n",
        "from sklearn.linear_model import Perceptron\n",
        "\n",
        "iris = load_iris(as_frame=True)\n",
        "X = iris.data[[\"petal length (cm)\", \"petal width (cm)\"]].values\n",
        "y = (iris.target == 0)  # Iris setosa\n",
        "\n",
        "per_clf = Perceptron(random_state=42)\n",
        "per_clf.fit(X, y)\n",
        "\n",
        "X_new = [[2, 0.5], [3, 1]]\n",
        "y_pred = per_clf.predict(X_new)  # predicts True and False for these 2 flowers"
      ]
    },
    {
      "cell_type": "code",
      "execution_count": 7,
      "metadata": {
        "id": "KAPDNJt2Qcj7",
        "outputId": "5727ea80-3ff6-4a71-c489-bd6d4d61f32b",
        "colab": {
          "base_uri": "https://localhost:8080/"
        }
      },
      "outputs": [
        {
          "output_type": "execute_result",
          "data": {
            "text/plain": [
              "array([ True, False])"
            ]
          },
          "metadata": {},
          "execution_count": 7
        }
      ],
      "source": [
        "y_pred"
      ]
    },
    {
      "cell_type": "markdown",
      "metadata": {
        "id": "QGxwdJ-GQcj7"
      },
      "source": [
        "The `Perceptron` is equivalent to a `SGDClassifier` with `loss=\"perceptron\"`, no regularization, and a constant learning rate equal to 1:"
      ]
    },
    {
      "cell_type": "code",
      "execution_count": 8,
      "metadata": {
        "id": "K0ecN1J5Qcj8"
      },
      "outputs": [],
      "source": [
        "# extra code – shows how to build and train a Perceptron\n",
        "\n",
        "from sklearn.linear_model import SGDClassifier\n",
        "\n",
        "sgd_clf = SGDClassifier(loss=\"perceptron\", penalty=None,\n",
        "                        learning_rate=\"constant\", eta0=1, random_state=42)\n",
        "sgd_clf.fit(X, y)\n",
        "assert (sgd_clf.coef_ == per_clf.coef_).all()\n",
        "assert (sgd_clf.intercept_ == per_clf.intercept_).all()"
      ]
    },
    {
      "cell_type": "markdown",
      "metadata": {
        "id": "vLRmLTK7Qcj8"
      },
      "source": [
        "When the Perceptron finds a decision boundary that properly separates the classes, it stops learning. This means that the decision boundary is often quite close to one class:"
      ]
    },
    {
      "cell_type": "code",
      "execution_count": 9,
      "metadata": {
        "id": "m1Tv3UXvQcj8",
        "outputId": "74e93b1b-8fdc-4f26-80bb-03a158d0ba4e",
        "colab": {
          "base_uri": "https://localhost:8080/",
          "height": 321
        }
      },
      "outputs": [
        {
          "output_type": "display_data",
          "data": {
            "text/plain": [
              "<Figure size 700x300 with 1 Axes>"
            ],
            "image/png": "[encoded data removed]"
          },
          "metadata": {}
        }
      ],
      "source": [
        "# extra code – plots the decision boundary of a Perceptron on the iris dataset\n",
        "\n",
        "import matplotlib.pyplot as plt\n",
        "from matplotlib.colors import ListedColormap\n",
        "\n",
        "a = -per_clf.coef_[0, 0] / per_clf.coef_[0, 1]\n",
        "b = -per_clf.intercept_ / per_clf.coef_[0, 1]\n",
        "axes = [0, 5, 0, 2]\n",
        "x0, x1 = np.meshgrid(\n",
        "    np.linspace(axes[0], axes[1], 500).reshape(-1, 1),\n",
        "    np.linspace(axes[2], axes[3], 200).reshape(-1, 1),\n",
        ")\n",
        "X_new = np.c_[x0.ravel(), x1.ravel()]\n",
        "y_predict = per_clf.predict(X_new)\n",
        "zz = y_predict.reshape(x0.shape)\n",
        "custom_cmap = ListedColormap(['#9898ff', '#fafab0'])\n",
        "\n",
        "plt.figure(figsize=(7, 3))\n",
        "plt.plot(X[y == 0, 0], X[y == 0, 1], \"bs\", label=\"Not Iris setosa\")\n",
        "plt.plot(X[y == 1, 0], X[y == 1, 1], \"yo\", label=\"Iris setosa\")\n",
        "plt.plot([axes[0], axes[1]], [a * axes[0] + b, a * axes[1] + b], \"k-\",\n",
        "         linewidth=3)\n",
        "plt.contourf(x0, x1, zz, cmap=custom_cmap)\n",
        "plt.xlabel(\"Petal length\")\n",
        "plt.ylabel(\"Petal width\")\n",
        "plt.legend(loc=\"lower right\")\n",
        "plt.axis(axes)\n",
        "plt.show()"
      ]
    },
    {
      "cell_type": "markdown",
      "metadata": {
        "id": "e5zOlu1zQcj8"
      },
      "source": [
        "**Activation functions**"
      ]
    },
    {
      "cell_type": "code",
      "execution_count": 10,
      "metadata": {
        "id": "T1JR-34nQcj8",
        "outputId": "77718b43-0293-44fb-f4f0-bbfd82eb0392",
        "colab": {
          "base_uri": "https://localhost:8080/",
          "height": 305
        }
      },
      "outputs": [
        {
          "output_type": "display_data",
          "data": {
            "text/plain": [
              "<Figure size 1100x310 with 2 Axes>"
            ],
            "image/png": "[encoded data removed]"
          },
          "metadata": {}
        }
      ],
      "source": [
        "# extra code – this cell generates and saves Figure 10–8\n",
        "\n",
        "from scipy.special import expit as sigmoid\n",
        "\n",
        "def relu(z):\n",
        "    return np.maximum(0, z)\n",
        "\n",
        "def derivative(f, z, eps=0.000001):\n",
        "    return (f(z + eps) - f(z - eps))/(2 * eps)\n",
        "\n",
        "max_z = 4.5\n",
        "z = np.linspace(-max_z, max_z, 200)\n",
        "\n",
        "plt.figure(figsize=(11, 3.1))\n",
        "\n",
        "plt.subplot(121)\n",
        "plt.plot([-max_z, 0], [0, 0], \"r-\", linewidth=2, label=\"Heaviside\")\n",
        "plt.plot(z, relu(z), \"m-.\", linewidth=2, label=\"ReLU\")\n",
        "plt.plot([0, 0], [0, 1], \"r-\", linewidth=0.5)\n",
        "plt.plot([0, max_z], [1, 1], \"r-\", linewidth=2)\n",
        "plt.plot(z, sigmoid(z), \"g--\", linewidth=2, label=\"Sigmoid\")\n",
        "plt.plot(z, np.tanh(z), \"b-\", linewidth=1, label=\"Tanh\")\n",
        "plt.grid(True)\n",
        "plt.title(\"Activation functions\")\n",
        "plt.axis([-max_z, max_z, -1.65, 2.4])\n",
        "plt.gca().set_yticks([-1, 0, 1, 2])\n",
        "plt.legend(loc=\"lower right\", fontsize=13)\n",
        "\n",
        "plt.subplot(122)\n",
        "plt.plot(z, derivative(np.sign, z), \"r-\", linewidth=2, label=\"Heaviside\")\n",
        "plt.plot(0, 0, \"ro\", markersize=5)\n",
        "plt.plot(0, 0, \"rx\", markersize=10)\n",
        "plt.plot(z, derivative(sigmoid, z), \"g--\", linewidth=2, label=\"Sigmoid\")\n",
        "plt.plot(z, derivative(np.tanh, z), \"b-\", linewidth=1, label=\"Tanh\")\n",
        "plt.plot([-max_z, 0], [0, 0], \"m-.\", linewidth=2)\n",
        "plt.plot([0, max_z], [1, 1], \"m-.\", linewidth=2)\n",
        "plt.plot([0, 0], [0, 1], \"m-.\", linewidth=1.2)\n",
        "plt.plot(0, 1, \"mo\", markersize=5)\n",
        "plt.plot(0, 1, \"mx\", markersize=10)\n",
        "plt.grid(True)\n",
        "plt.title(\"Derivatives\")\n",
        "plt.axis([-max_z, max_z, -0.2, 1.2])\n",
        "\n",
        "save_fig(\"activation_functions_plot\")\n",
        "plt.show()"
      ]
    },
    {
      "cell_type": "markdown",
      "metadata": {
        "id": "xSZcVY5RQcj8"
      },
      "source": [
        "## Regression MLPs"
      ]
    },
    {
      "cell_type": "code",
      "execution_count": null,
      "metadata": {
        "id": "mDfDh5YsQcj8"
      },
      "outputs": [],
      "source": [
        "from sklearn.datasets import fetch_california_housing\n",
        "from sklearn.metrics import mean_squared_error\n",
        "from sklearn.model_selection import train_test_split\n",
        "from sklearn.neural_network import MLPRegressor\n",
        "from sklearn.pipeline import make_pipeline\n",
        "from sklearn.preprocessing import StandardScaler\n",
        "\n",
        "housing = fetch_california_housing()\n",
        "X_train_full, X_test, y_train_full, y_test = train_test_split(\n",
        "    housing.data, housing.target, random_state=42)\n",
        "X_train, X_valid, y_train, y_valid = train_test_split(\n",
        "    X_train_full, y_train_full, random_state=42)\n",
        "\n",
        "mlp_reg = MLPRegressor(hidden_layer_sizes=[50, 50, 50], random_state=42)\n",
        "pipeline = make_pipeline(StandardScaler(), mlp_reg)\n",
        "pipeline.fit(X_train, y_train)\n",
        "y_pred = pipeline.predict(X_valid)\n",
        "rmse = mean_squared_error(y_valid, y_pred, squared=False)"
      ]
    },
    {
      "cell_type": "code",
      "execution_count": null,
      "metadata": {
        "id": "Gc3i83WdQcj8"
      },
      "outputs": [],
      "source": [
        "rmse"
      ]
    },
    {
      "cell_type": "markdown",
      "metadata": {
        "id": "D2OZ9kceQcj9"
      },
      "source": [
        "## Classification MLPs"
      ]
    },
    {
      "cell_type": "code",
      "execution_count": null,
      "metadata": {
        "id": "Ikih7bd6Qcj9"
      },
      "outputs": [],
      "source": [
        "# extra code – this was left as an exercise for the reader\n",
        "\n",
        "from sklearn.datasets import load_iris\n",
        "from sklearn.model_selection import train_test_split\n",
        "from sklearn.neural_network import MLPClassifier\n",
        "\n",
        "iris = load_iris()\n",
        "X_train_full, X_test, y_train_full, y_test = train_test_split(\n",
        "    iris.data, iris.target, test_size=0.1, random_state=42)\n",
        "X_train, X_valid, y_train, y_valid = train_test_split(\n",
        "    X_train_full, y_train_full, test_size=0.1, random_state=42)\n",
        "\n",
        "mlp_clf = MLPClassifier(hidden_layer_sizes=[5], max_iter=10_000,\n",
        "                        random_state=42)\n",
        "pipeline = make_pipeline(StandardScaler(), mlp_clf)\n",
        "pipeline.fit(X_train, y_train)\n",
        "accuracy = pipeline.score(X_valid, y_valid)\n",
        "accuracy"
      ]
    },
    {
      "cell_type": "markdown",
      "metadata": {
        "id": "YKzI4QulQcj9"
      },
      "source": [
        "# Implementing MLPs with Keras\n",
        "## Building an Image Classifier Using the Sequential API\n",
        "### Using Keras to load the dataset"
      ]
    },
    {
      "cell_type": "markdown",
      "metadata": {
        "id": "IdJk2PopQcj9"
      },
      "source": [
        "Let's start by loading the fashion MNIST dataset. Keras has a number of functions to load popular datasets in `tf.keras.datasets`. The dataset is already split for you between a training set (60,000 images) and a test set (10,000 images), but it can be useful to split the training set further to have a validation set. We'll use 55,000 images for training, and 5,000 for validation."
      ]
    },
    {
      "cell_type": "code",
      "execution_count": null,
      "metadata": {
        "id": "Ork4DtBiQcj9"
      },
      "outputs": [],
      "source": [
        "import tensorflow as tf\n",
        "\n",
        "fashion_mnist = tf.keras.datasets.fashion_mnist.load_data()\n",
        "(X_train_full, y_train_full), (X_test, y_test) = fashion_mnist\n",
        "X_train, y_train = X_train_full[:-5000], y_train_full[:-5000]\n",
        "X_valid, y_valid = X_train_full[-5000:], y_train_full[-5000:]"
      ]
    },
    {
      "cell_type": "markdown",
      "metadata": {
        "id": "BfIBShmWQcj9"
      },
      "source": [
        "The training set contains 60,000 grayscale images, each 28x28 pixels:"
      ]
    },
    {
      "cell_type": "code",
      "execution_count": null,
      "metadata": {
        "id": "WK60CYivQcj9"
      },
      "outputs": [],
      "source": [
        "X_train.shape"
      ]
    },
    {
      "cell_type": "markdown",
      "metadata": {
        "id": "ougNxRshQcj9"
      },
      "source": [
        "Each pixel intensity is represented as a byte (0 to 255):"
      ]
    },
    {
      "cell_type": "code",
      "execution_count": null,
      "metadata": {
        "id": "JgdmbkCmQcj9"
      },
      "outputs": [],
      "source": [
        "X_train.dtype"
      ]
    },
    {
      "cell_type": "markdown",
      "metadata": {
        "id": "xqik9csPQcj9"
      },
      "source": [
        "Let's scale the pixel intensities down to the 0-1 range and convert them to floats, by dividing by 255:"
      ]
    },
    {
      "cell_type": "code",
      "execution_count": null,
      "metadata": {
        "id": "PW1Tj967Qcj9"
      },
      "outputs": [],
      "source": [
        "X_train, X_valid, X_test = X_train / 255., X_valid / 255., X_test / 255."
      ]
    },
    {
      "cell_type": "markdown",
      "metadata": {
        "id": "jNXk_efyQcj9"
      },
      "source": [
        "You can plot an image using Matplotlib's `imshow()` function, with a `'binary'`\n",
        " color map:"
      ]
    },
    {
      "cell_type": "code",
      "execution_count": null,
      "metadata": {
        "id": "h6DlSX03Qcj-"
      },
      "outputs": [],
      "source": [
        "# extra code\n",
        "\n",
        "plt.imshow(X_train[0], cmap=\"binary\")\n",
        "plt.axis('off')\n",
        "plt.show()"
      ]
    },
    {
      "cell_type": "markdown",
      "metadata": {
        "id": "PL6gwp-gQckB"
      },
      "source": [
        "The labels are the class IDs (represented as uint8), from 0 to 9:"
      ]
    },
    {
      "cell_type": "code",
      "execution_count": null,
      "metadata": {
        "id": "f-4Kjhb0QckB"
      },
      "outputs": [],
      "source": [
        "y_train"
      ]
    },
    {
      "cell_type": "markdown",
      "metadata": {
        "id": "wn4LCqY1QckB"
      },
      "source": [
        "Here are the corresponding class names:"
      ]
    },
    {
      "cell_type": "code",
      "execution_count": null,
      "metadata": {
        "id": "P0WLNFomQckB"
      },
      "outputs": [],
      "source": [
        "class_names = [\"T-shirt/top\", \"Trouser\", \"Pullover\", \"Dress\", \"Coat\",\n",
        "               \"Sandal\", \"Shirt\", \"Sneaker\", \"Bag\", \"Ankle boot\"]"
      ]
    },
    {
      "cell_type": "markdown",
      "metadata": {
        "id": "ALbQZwdpQckB"
      },
      "source": [
        "So the first image in the training set is an ankle boot:"
      ]
    },
    {
      "cell_type": "code",
      "execution_count": null,
      "metadata": {
        "id": "XvFYFX0sQckB"
      },
      "outputs": [],
      "source": [
        "class_names[y_train[0]]"
      ]
    },
    {
      "cell_type": "markdown",
      "metadata": {
        "id": "UQHSr9-dQckC"
      },
      "source": [
        "Let's take a look at a sample of the images in the dataset:"
      ]
    },
    {
      "cell_type": "code",
      "execution_count": null,
      "metadata": {
        "id": "LgbhRJuYQckC"
      },
      "outputs": [],
      "source": [
        "# extra code – this cell generates and saves Figure 10–10\n",
        "\n",
        "n_rows = 4\n",
        "n_cols = 10\n",
        "plt.figure(figsize=(n_cols * 1.2, n_rows * 1.2))\n",
        "for row in range(n_rows):\n",
        "    for col in range(n_cols):\n",
        "        index = n_cols * row + col\n",
        "        plt.subplot(n_rows, n_cols, index + 1)\n",
        "        plt.imshow(X_train[index], cmap=\"binary\", interpolation=\"nearest\")\n",
        "        plt.axis('off')\n",
        "        plt.title(class_names[y_train[index]])\n",
        "plt.subplots_adjust(wspace=0.2, hspace=0.5)\n",
        "\n",
        "save_fig(\"fashion_mnist_plot\")\n",
        "plt.show()"
      ]
    },
    {
      "cell_type": "markdown",
      "metadata": {
        "id": "McpPxkvxQckC"
      },
      "source": [
        "### Creating the model using the Sequential API"
      ]
    },
    {
      "cell_type": "code",
      "execution_count": null,
      "metadata": {
        "id": "L_j9GxmWQckC"
      },
      "outputs": [],
      "source": [
        "tf.random.set_seed(42)\n",
        "model = tf.keras.Sequential()\n",
        "model.add(tf.keras.layers.InputLayer(input_shape=[28, 28]))\n",
        "model.add(tf.keras.layers.Flatten())\n",
        "model.add(tf.keras.layers.Dense(300, activation=\"relu\"))\n",
        "model.add(tf.keras.layers.Dense(100, activation=\"relu\"))\n",
        "model.add(tf.keras.layers.Dense(10, activation=\"softmax\"))"
      ]
    },
    {
      "cell_type": "code",
      "execution_count": null,
      "metadata": {
        "id": "QP0AQvoQQckC"
      },
      "outputs": [],
      "source": [
        "# extra code – clear the session to reset the name counters\n",
        "tf.keras.backend.clear_session()\n",
        "tf.random.set_seed(42)\n",
        "\n",
        "model = tf.keras.Sequential([\n",
        "    tf.keras.layers.Flatten(input_shape=[28, 28]),\n",
        "    tf.keras.layers.Dense(300, activation=\"relu\"),\n",
        "    tf.keras.layers.Dense(100, activation=\"relu\"),\n",
        "    tf.keras.layers.Dense(10, activation=\"softmax\")\n",
        "])"
      ]
    },
    {
      "cell_type": "code",
      "execution_count": null,
      "metadata": {
        "id": "guMqsNcaQckC"
      },
      "outputs": [],
      "source": [
        "model.summary()"
      ]
    },
    {
      "cell_type": "code",
      "execution_count": null,
      "metadata": {
        "id": "dT3zpVcnQckC"
      },
      "outputs": [],
      "source": [
        "# extra code – another way to display the model's architecture\n",
        "tf.keras.utils.plot_model(model, \"my_fashion_mnist_model.png\", show_shapes=True)"
      ]
    },
    {
      "cell_type": "code",
      "execution_count": null,
      "metadata": {
        "id": "tO-IH6DLQckC"
      },
      "outputs": [],
      "source": [
        "model.layers"
      ]
    },
    {
      "cell_type": "code",
      "execution_count": null,
      "metadata": {
        "id": "SUi9eU8jQckC"
      },
      "outputs": [],
      "source": [
        "hidden1 = model.layers[1]\n",
        "hidden1.name"
      ]
    },
    {
      "cell_type": "code",
      "execution_count": null,
      "metadata": {
        "id": "VbgHIeW6QckC"
      },
      "outputs": [],
      "source": [
        "model.get_layer('dense') is hidden1"
      ]
    },
    {
      "cell_type": "code",
      "execution_count": null,
      "metadata": {
        "id": "xqBwlQZoQckD"
      },
      "outputs": [],
      "source": [
        "weights, biases = hidden1.get_weights()\n",
        "weights"
      ]
    },
    {
      "cell_type": "code",
      "execution_count": null,
      "metadata": {
        "id": "x4rnc2LvQckD"
      },
      "outputs": [],
      "source": [
        "weights.shape"
      ]
    },
    {
      "cell_type": "code",
      "execution_count": null,
      "metadata": {
        "id": "5gobOw4ZQckD"
      },
      "outputs": [],
      "source": [
        "biases"
      ]
    },
    {
      "cell_type": "code",
      "execution_count": null,
      "metadata": {
        "id": "y0SmViTQQckD"
      },
      "outputs": [],
      "source": [
        "biases.shape"
      ]
    },
    {
      "cell_type": "markdown",
      "metadata": {
        "id": "9AVX5RF2QckD"
      },
      "source": [
        "### Compiling the model"
      ]
    },
    {
      "cell_type": "code",
      "execution_count": null,
      "metadata": {
        "id": "wKsqbuPnQckD"
      },
      "outputs": [],
      "source": [
        "model.compile(loss=\"sparse_categorical_crossentropy\",\n",
        "              optimizer=\"sgd\",\n",
        "              metrics=[\"accuracy\"])"
      ]
    },
    {
      "cell_type": "markdown",
      "metadata": {
        "id": "hmQlDBYxQckD"
      },
      "source": [
        "This is equivalent to:"
      ]
    },
    {
      "cell_type": "code",
      "execution_count": null,
      "metadata": {
        "id": "-4J7VokNQckD"
      },
      "outputs": [],
      "source": [
        "# extra code – this cell is equivalent to the previous cell\n",
        "model.compile(loss=tf.keras.losses.sparse_categorical_crossentropy,\n",
        "              optimizer=tf.keras.optimizers.SGD(),\n",
        "              metrics=[tf.keras.metrics.sparse_categorical_accuracy])"
      ]
    },
    {
      "cell_type": "code",
      "execution_count": null,
      "metadata": {
        "id": "qzRD7OuDQckD"
      },
      "outputs": [],
      "source": [
        "# extra code – shows how to convert class ids to one-hot vectors\n",
        "tf.keras.utils.to_categorical([0, 5, 1, 0], num_classes=10)"
      ]
    },
    {
      "cell_type": "markdown",
      "metadata": {
        "id": "VCkjbWyPQckD"
      },
      "source": [
        "Note: it's important to set `num_classes` when the number of classes is greater than the maximum class id in the sample."
      ]
    },
    {
      "cell_type": "code",
      "execution_count": null,
      "metadata": {
        "id": "kYx-jA2yQckD"
      },
      "outputs": [],
      "source": [
        "# extra code – shows how to convert one-hot vectors to class ids\n",
        "np.argmax(\n",
        "    [[1., 0., 0., 0., 0., 0., 0., 0., 0., 0.],\n",
        "     [0., 0., 0., 0., 0., 1., 0., 0., 0., 0.],\n",
        "     [0., 1., 0., 0., 0., 0., 0., 0., 0., 0.],\n",
        "     [1., 0., 0., 0., 0., 0., 0., 0., 0., 0.]],\n",
        "    axis=1\n",
        ")"
      ]
    },
    {
      "cell_type": "markdown",
      "metadata": {
        "id": "iYIB_ZyvQckE"
      },
      "source": [
        "### Training and evaluating the model"
      ]
    },
    {
      "cell_type": "code",
      "execution_count": null,
      "metadata": {
        "id": "ybkohkQRQckE"
      },
      "outputs": [],
      "source": [
        "history = model.fit(X_train, y_train, epochs=30,\n",
        "                    validation_data=(X_valid, y_valid))"
      ]
    },
    {
      "cell_type": "code",
      "execution_count": null,
      "metadata": {
        "id": "MME7619TQckE"
      },
      "outputs": [],
      "source": [
        "history.params"
      ]
    },
    {
      "cell_type": "code",
      "execution_count": null,
      "metadata": {
        "id": "XrxDhvU3QckE"
      },
      "outputs": [],
      "source": [
        "print(history.epoch)"
      ]
    },
    {
      "cell_type": "code",
      "execution_count": null,
      "metadata": {
        "id": "--KM639YQckE"
      },
      "outputs": [],
      "source": [
        "import matplotlib.pyplot as plt\n",
        "import pandas as pd\n",
        "\n",
        "pd.DataFrame(history.history).plot(\n",
        "    figsize=(8, 5), xlim=[0, 29], ylim=[0, 1], grid=True, xlabel=\"Epoch\",\n",
        "    style=[\"r--\", \"r--.\", \"b-\", \"b-*\"])\n",
        "plt.legend(loc=\"lower left\")  # extra code\n",
        "save_fig(\"keras_learning_curves_plot\")  # extra code\n",
        "plt.show()"
      ]
    },
    {
      "cell_type": "code",
      "execution_count": null,
      "metadata": {
        "id": "9ZThuBF8QckE"
      },
      "outputs": [],
      "source": [
        "# extra code – shows how to shift the training curve by -1/2 epoch\n",
        "plt.figure(figsize=(8, 5))\n",
        "for key, style in zip(history.history, [\"r--\", \"r--.\", \"b-\", \"b-*\"]):\n",
        "    epochs = np.array(history.epoch) + (0 if key.startswith(\"val_\") else -0.5)\n",
        "    plt.plot(epochs, history.history[key], style, label=key)\n",
        "plt.xlabel(\"Epoch\")\n",
        "plt.axis([-0.5, 29, 0., 1])\n",
        "plt.legend(loc=\"lower left\")\n",
        "plt.grid()\n",
        "plt.show()"
      ]
    },
    {
      "cell_type": "code",
      "execution_count": null,
      "metadata": {
        "id": "4JbdrNWxQckE"
      },
      "outputs": [],
      "source": [
        "model.evaluate(X_test, y_test)"
      ]
    },
    {
      "cell_type": "markdown",
      "metadata": {
        "id": "J97wKECBQckE"
      },
      "source": [
        "### Using the model to make predictions"
      ]
    },
    {
      "cell_type": "code",
      "execution_count": null,
      "metadata": {
        "id": "GAH7Pl-pQckE"
      },
      "outputs": [],
      "source": [
        "X_new = X_test[:3]\n",
        "y_proba = model.predict(X_new)\n",
        "y_proba.round(2)"
      ]
    },
    {
      "cell_type": "code",
      "execution_count": null,
      "metadata": {
        "id": "95Rzo64eQckE"
      },
      "outputs": [],
      "source": [
        "y_pred = y_proba.argmax(axis=-1)\n",
        "y_pred"
      ]
    },
    {
      "cell_type": "code",
      "execution_count": null,
      "metadata": {
        "id": "2ufK_HPbQckF"
      },
      "outputs": [],
      "source": [
        "np.array(class_names)[y_pred]"
      ]
    },
    {
      "cell_type": "code",
      "execution_count": null,
      "metadata": {
        "id": "eKkxK6UWQckF"
      },
      "outputs": [],
      "source": [
        "y_new = y_test[:3]\n",
        "y_new"
      ]
    },
    {
      "cell_type": "code",
      "execution_count": null,
      "metadata": {
        "id": "JADlzac3QckF"
      },
      "outputs": [],
      "source": [
        "# extra code – this cell generates and saves Figure 10–12\n",
        "plt.figure(figsize=(7.2, 2.4))\n",
        "for index, image in enumerate(X_new):\n",
        "    plt.subplot(1, 3, index + 1)\n",
        "    plt.imshow(image, cmap=\"binary\", interpolation=\"nearest\")\n",
        "    plt.axis('off')\n",
        "    plt.title(class_names[y_test[index]])\n",
        "plt.subplots_adjust(wspace=0.2, hspace=0.5)\n",
        "save_fig('fashion_mnist_images_plot', tight_layout=False)\n",
        "plt.show()"
      ]
    },
    {
      "cell_type": "markdown",
      "metadata": {
        "id": "NlLtlw1fQckF"
      },
      "source": [
        "## Building a Regression MLP Using the Sequential API"
      ]
    },
    {
      "cell_type": "markdown",
      "metadata": {
        "id": "CUpnP47-QckF"
      },
      "source": [
        "Let's load, split and scale the California housing dataset (the original one, not the modified one as in chapter 2):"
      ]
    },
    {
      "cell_type": "code",
      "execution_count": null,
      "metadata": {
        "id": "tzQfybdAQckF"
      },
      "outputs": [],
      "source": [
        "# extra code – load and split the California housing dataset, like earlier\n",
        "housing = fetch_california_housing()\n",
        "X_train_full, X_test, y_train_full, y_test = train_test_split(\n",
        "    housing.data, housing.target, random_state=42)\n",
        "X_train, X_valid, y_train, y_valid = train_test_split(\n",
        "    X_train_full, y_train_full, random_state=42)"
      ]
    },
    {
      "cell_type": "code",
      "execution_count": null,
      "metadata": {
        "id": "mazIqBCIQckF"
      },
      "outputs": [],
      "source": [
        "tf.random.set_seed(42)\n",
        "norm_layer = tf.keras.layers.Normalization(input_shape=X_train.shape[1:])\n",
        "model = tf.keras.Sequential([\n",
        "    norm_layer,\n",
        "    tf.keras.layers.Dense(50, activation=\"relu\"),\n",
        "    tf.keras.layers.Dense(50, activation=\"relu\"),\n",
        "    tf.keras.layers.Dense(50, activation=\"relu\"),\n",
        "    tf.keras.layers.Dense(1)\n",
        "])\n",
        "optimizer = tf.keras.optimizers.Adam(learning_rate=1e-3)\n",
        "model.compile(loss=\"mse\", optimizer=optimizer, metrics=[\"RootMeanSquaredError\"])\n",
        "norm_layer.adapt(X_train)\n",
        "history = model.fit(X_train, y_train, epochs=20,\n",
        "                    validation_data=(X_valid, y_valid))\n",
        "mse_test, rmse_test = model.evaluate(X_test, y_test)\n",
        "X_new = X_test[:3]\n",
        "y_pred = model.predict(X_new)"
      ]
    },
    {
      "cell_type": "code",
      "execution_count": null,
      "metadata": {
        "id": "vvni3u-kQckF"
      },
      "outputs": [],
      "source": [
        "rmse_test"
      ]
    },
    {
      "cell_type": "code",
      "execution_count": null,
      "metadata": {
        "id": "hX3pylNHQckF"
      },
      "outputs": [],
      "source": [
        "y_pred"
      ]
    },
    {
      "cell_type": "markdown",
      "metadata": {
        "id": "b9jTD8MXQckG"
      },
      "source": [
        "## Building Complex Models Using the Functional API"
      ]
    },
    {
      "cell_type": "markdown",
      "metadata": {
        "id": "1jT6-GXoQckG"
      },
      "source": [
        "Not all neural network models are simply sequential. Some may have complex topologies. Some may have multiple inputs and/or multiple outputs. For example, a Wide & Deep neural network (see [paper](https://ai.google/research/pubs/pub45413)) connects all or part of the inputs directly to the output layer."
      ]
    },
    {
      "cell_type": "code",
      "execution_count": null,
      "metadata": {
        "id": "2ybBQAAPQckG"
      },
      "outputs": [],
      "source": [
        "# extra code – reset the name counters and make the code reproducible\n",
        "tf.keras.backend.clear_session()\n",
        "tf.random.set_seed(42)"
      ]
    },
    {
      "cell_type": "code",
      "execution_count": null,
      "metadata": {
        "id": "rADMEPn8QckG"
      },
      "outputs": [],
      "source": [
        "normalization_layer = tf.keras.layers.Normalization()\n",
        "hidden_layer1 = tf.keras.layers.Dense(30, activation=\"relu\")\n",
        "hidden_layer2 = tf.keras.layers.Dense(30, activation=\"relu\")\n",
        "concat_layer = tf.keras.layers.Concatenate()\n",
        "output_layer = tf.keras.layers.Dense(1)\n",
        "\n",
        "input_ = tf.keras.layers.Input(shape=X_train.shape[1:])\n",
        "normalized = normalization_layer(input_)\n",
        "hidden1 = hidden_layer1(normalized)\n",
        "hidden2 = hidden_layer2(hidden1)\n",
        "concat = concat_layer([normalized, hidden2])\n",
        "output = output_layer(concat)\n",
        "\n",
        "model = tf.keras.Model(inputs=[input_], outputs=[output])"
      ]
    },
    {
      "cell_type": "code",
      "execution_count": null,
      "metadata": {
        "id": "-SCpmUsJQckG"
      },
      "outputs": [],
      "source": [
        "model.summary()"
      ]
    },
    {
      "cell_type": "code",
      "execution_count": null,
      "metadata": {
        "id": "bHGDbEH5QckG"
      },
      "outputs": [],
      "source": [
        "optimizer = tf.keras.optimizers.Adam(learning_rate=1e-3)\n",
        "model.compile(loss=\"mse\", optimizer=optimizer, metrics=[\"RootMeanSquaredError\"])\n",
        "normalization_layer.adapt(X_train)\n",
        "history = model.fit(X_train, y_train, epochs=20,\n",
        "                    validation_data=(X_valid, y_valid))\n",
        "mse_test = model.evaluate(X_test, y_test)\n",
        "y_pred = model.predict(X_new)"
      ]
    },
    {
      "cell_type": "markdown",
      "metadata": {
        "id": "MNCXtFRbQckG"
      },
      "source": [
        "What if you want to send different subsets of input features through the wide or deep paths? We will send 5 features (features 0 to 4), and 6 through the deep path (features 2 to 7). Note that 3 features will go through both (features 2, 3 and 4)."
      ]
    },
    {
      "cell_type": "code",
      "execution_count": null,
      "metadata": {
        "id": "u1ImzbrdQckG"
      },
      "outputs": [],
      "source": [
        "tf.random.set_seed(42)  # extra code"
      ]
    },
    {
      "cell_type": "code",
      "execution_count": null,
      "metadata": {
        "id": "l-9o9bjVQckG"
      },
      "outputs": [],
      "source": [
        "input_wide = tf.keras.layers.Input(shape=[5])  # features 0 to 4\n",
        "input_deep = tf.keras.layers.Input(shape=[6])  # features 2 to 7\n",
        "norm_layer_wide = tf.keras.layers.Normalization()\n",
        "norm_layer_deep = tf.keras.layers.Normalization()\n",
        "norm_wide = norm_layer_wide(input_wide)\n",
        "norm_deep = norm_layer_deep(input_deep)\n",
        "hidden1 = tf.keras.layers.Dense(30, activation=\"relu\")(norm_deep)\n",
        "hidden2 = tf.keras.layers.Dense(30, activation=\"relu\")(hidden1)\n",
        "concat = tf.keras.layers.concatenate([norm_wide, hidden2])\n",
        "output = tf.keras.layers.Dense(1)(concat)\n",
        "model = tf.keras.Model(inputs=[input_wide, input_deep], outputs=[output])"
      ]
    },
    {
      "cell_type": "code",
      "execution_count": null,
      "metadata": {
        "id": "KHJNf-aXQckG"
      },
      "outputs": [],
      "source": [
        "optimizer = tf.keras.optimizers.Adam(learning_rate=1e-3)\n",
        "model.compile(loss=\"mse\", optimizer=optimizer, metrics=[\"RootMeanSquaredError\"])\n",
        "\n",
        "X_train_wide, X_train_deep = X_train[:, :5], X_train[:, 2:]\n",
        "X_valid_wide, X_valid_deep = X_valid[:, :5], X_valid[:, 2:]\n",
        "X_test_wide, X_test_deep = X_test[:, :5], X_test[:, 2:]\n",
        "X_new_wide, X_new_deep = X_test_wide[:3], X_test_deep[:3]\n",
        "\n",
        "norm_layer_wide.adapt(X_train_wide)\n",
        "norm_layer_deep.adapt(X_train_deep)\n",
        "history = model.fit((X_train_wide, X_train_deep), y_train, epochs=20,\n",
        "                    validation_data=((X_valid_wide, X_valid_deep), y_valid))\n",
        "mse_test = model.evaluate((X_test_wide, X_test_deep), y_test)\n",
        "y_pred = model.predict((X_new_wide, X_new_deep))"
      ]
    },
    {
      "cell_type": "markdown",
      "metadata": {
        "id": "7rVroeQ4QckG"
      },
      "source": [
        "Adding an auxiliary output for regularization:"
      ]
    },
    {
      "cell_type": "code",
      "execution_count": null,
      "metadata": {
        "id": "JMUuyNkBQckG"
      },
      "outputs": [],
      "source": [
        "tf.keras.backend.clear_session()\n",
        "tf.random.set_seed(42)"
      ]
    },
    {
      "cell_type": "code",
      "execution_count": null,
      "metadata": {
        "id": "LRL3xErGQckG"
      },
      "outputs": [],
      "source": [
        "input_wide = tf.keras.layers.Input(shape=[5])  # features 0 to 4\n",
        "input_deep = tf.keras.layers.Input(shape=[6])  # features 2 to 7\n",
        "norm_layer_wide = tf.keras.layers.Normalization()\n",
        "norm_layer_deep = tf.keras.layers.Normalization()\n",
        "norm_wide = norm_layer_wide(input_wide)\n",
        "norm_deep = norm_layer_deep(input_deep)\n",
        "hidden1 = tf.keras.layers.Dense(30, activation=\"relu\")(norm_deep)\n",
        "hidden2 = tf.keras.layers.Dense(30, activation=\"relu\")(hidden1)\n",
        "concat = tf.keras.layers.concatenate([norm_wide, hidden2])\n",
        "output = tf.keras.layers.Dense(1)(concat)\n",
        "aux_output = tf.keras.layers.Dense(1)(hidden2)\n",
        "model = tf.keras.Model(inputs=[input_wide, input_deep],\n",
        "                       outputs=[output, aux_output])"
      ]
    },
    {
      "cell_type": "markdown",
      "metadata": {
        "id": "ekRmWnQ5QckG"
      },
      "source": [
        "**Warning**: in recent versions, Keras requires one metric per output, so I replaced `metrics=[\"RootMeanSquaredError\"]` with `metrics=[\"RootMeanSquaredError\", \"RootMeanSquaredError\"]` in the code below."
      ]
    },
    {
      "cell_type": "code",
      "execution_count": null,
      "metadata": {
        "id": "Y483N3xbQckH"
      },
      "outputs": [],
      "source": [
        "optimizer = tf.keras.optimizers.Adam(learning_rate=1e-3)\n",
        "model.compile(loss=(\"mse\", \"mse\"), loss_weights=(0.9, 0.1), optimizer=optimizer,\n",
        "              metrics=[\"RootMeanSquaredError\", \"RootMeanSquaredError\"])"
      ]
    },
    {
      "cell_type": "code",
      "execution_count": null,
      "metadata": {
        "id": "IRmf-fmwQckH"
      },
      "outputs": [],
      "source": [
        "norm_layer_wide.adapt(X_train_wide)\n",
        "norm_layer_deep.adapt(X_train_deep)\n",
        "history = model.fit(\n",
        "    (X_train_wide, X_train_deep), (y_train, y_train), epochs=20,\n",
        "    validation_data=((X_valid_wide, X_valid_deep), (y_valid, y_valid))\n",
        ")"
      ]
    },
    {
      "cell_type": "code",
      "execution_count": null,
      "metadata": {
        "id": "UkzDqi7oQckH"
      },
      "outputs": [],
      "source": [
        "eval_results = model.evaluate((X_test_wide, X_test_deep), (y_test, y_test))\n",
        "weighted_sum_of_losses, main_loss, aux_loss = eval_results"
      ]
    },
    {
      "cell_type": "code",
      "execution_count": null,
      "metadata": {
        "id": "9ZqaD36lQckH"
      },
      "outputs": [],
      "source": [
        "y_pred_main, y_pred_aux = model.predict((X_new_wide, X_new_deep))"
      ]
    },
    {
      "cell_type": "code",
      "execution_count": null,
      "metadata": {
        "id": "PSiM5pBJQckH"
      },
      "outputs": [],
      "source": [
        "y_pred_tuple = model.predict((X_new_wide, X_new_deep))\n",
        "y_pred = dict(zip(model.output_names, y_pred_tuple))"
      ]
    },
    {
      "cell_type": "markdown",
      "metadata": {
        "id": "Yyu-1wGPQckH"
      },
      "source": [
        "## Using the Subclassing API to Build Dynamic Models"
      ]
    },
    {
      "cell_type": "code",
      "execution_count": null,
      "metadata": {
        "id": "QC-OwXp2QckH"
      },
      "outputs": [],
      "source": [
        "class WideAndDeepModel(tf.keras.Model):\n",
        "    def __init__(self, units=30, activation=\"relu\", **kwargs):\n",
        "        super().__init__(**kwargs)  # needed to support naming the model\n",
        "        self.norm_layer_wide = tf.keras.layers.Normalization()\n",
        "        self.norm_layer_deep = tf.keras.layers.Normalization()\n",
        "        self.hidden1 = tf.keras.layers.Dense(units, activation=activation)\n",
        "        self.hidden2 = tf.keras.layers.Dense(units, activation=activation)\n",
        "        self.main_output = tf.keras.layers.Dense(1)\n",
        "        self.aux_output = tf.keras.layers.Dense(1)\n",
        "\n",
        "    def call(self, inputs):\n",
        "        input_wide, input_deep = inputs\n",
        "        norm_wide = self.norm_layer_wide(input_wide)\n",
        "        norm_deep = self.norm_layer_deep(input_deep)\n",
        "        hidden1 = self.hidden1(norm_deep)\n",
        "        hidden2 = self.hidden2(hidden1)\n",
        "        concat = tf.keras.layers.concatenate([norm_wide, hidden2])\n",
        "        output = self.main_output(concat)\n",
        "        aux_output = self.aux_output(hidden2)\n",
        "        return output, aux_output\n",
        "\n",
        "tf.random.set_seed(42)  # extra code – just for reproducibility\n",
        "model = WideAndDeepModel(30, activation=\"relu\", name=\"my_cool_model\")"
      ]
    },
    {
      "cell_type": "markdown",
      "metadata": {
        "id": "YruM4RFFQckH"
      },
      "source": [
        "**Warning**: as explained above, Keras now requires one metric per output, so I replaced `metrics=[\"RootMeanSquaredError\"]` with `metrics=[\"RootMeanSquaredError\", \"RootMeanSquaredError\"]` in the code below."
      ]
    },
    {
      "cell_type": "code",
      "execution_count": null,
      "metadata": {
        "id": "G1runRl7QckI"
      },
      "outputs": [],
      "source": [
        "optimizer = tf.keras.optimizers.Adam(learning_rate=1e-3)\n",
        "model.compile(loss=\"mse\", loss_weights=[0.9, 0.1], optimizer=optimizer,\n",
        "              metrics=[\"RootMeanSquaredError\", \"RootMeanSquaredError\"])\n",
        "model.norm_layer_wide.adapt(X_train_wide)\n",
        "model.norm_layer_deep.adapt(X_train_deep)\n",
        "history = model.fit(\n",
        "    (X_train_wide, X_train_deep), (y_train, y_train), epochs=10,\n",
        "    validation_data=((X_valid_wide, X_valid_deep), (y_valid, y_valid)))\n",
        "eval_results = model.evaluate((X_test_wide, X_test_deep), (y_test, y_test))\n",
        "y_pred_main, y_pred_aux = model.predict((X_new_wide, X_new_deep))"
      ]
    },
    {
      "cell_type": "markdown",
      "metadata": {
        "id": "lTh1U_U2QckI"
      },
      "source": [
        "## Saving and Restoring a Model"
      ]
    },
    {
      "cell_type": "markdown",
      "metadata": {
        "id": "y7OJebgmQckI"
      },
      "source": [
        "**Warning**: Keras now recommends using the `.keras` format to save models, and the `h5` format for weights. Therefore I have updated the code in this section to first show what you need to change if you still want to use TensorFlow's `SavedModel` format, and then how you can use the recommended formats."
      ]
    },
    {
      "cell_type": "code",
      "execution_count": null,
      "metadata": {
        "id": "6Lf_clttQckI"
      },
      "outputs": [],
      "source": [
        "# extra code – delete the directory, in case it already exists\n",
        "\n",
        "import shutil\n",
        "\n",
        "shutil.rmtree(\"my_keras_model\", ignore_errors=True)"
      ]
    },
    {
      "cell_type": "markdown",
      "metadata": {
        "id": "r1Pd5MfSQckI"
      },
      "source": [
        "**Warning**: Keras's `model.save()` method no longer supports TensorFlow's `SavedModel` format. However, you can still export models to the `SavedModel` format using `model.export()` like this:"
      ]
    },
    {
      "cell_type": "code",
      "execution_count": null,
      "metadata": {
        "id": "-dIyaUzxQckI"
      },
      "outputs": [],
      "source": [
        "model.export(\"my_keras_model\")"
      ]
    },
    {
      "cell_type": "code",
      "execution_count": null,
      "metadata": {
        "id": "fyKlEZx-QckI"
      },
      "outputs": [],
      "source": [
        "# extra code – show the contents of the my_keras_model/ directory\n",
        "for path in sorted(Path(\"my_keras_model\").glob(\"**/*\")):\n",
        "    print(path)"
      ]
    },
    {
      "cell_type": "markdown",
      "metadata": {
        "id": "ouji_HXLQckI"
      },
      "source": [
        "**Warning**: In Keras 3, it is no longer possible to load a TensorFlow `SavedModel` as a Keras model. However, you can load a `SavedModel` as a `tf.keras.layers.TFSMLayer` layer, but be aware that this layer can only be used for inference: no training."
      ]
    },
    {
      "cell_type": "code",
      "execution_count": null,
      "metadata": {
        "id": "3Yas0zdhQckI"
      },
      "outputs": [],
      "source": [
        "tfsm_layer = tf.keras.layers.TFSMLayer(\"my_keras_model\")\n",
        "y_pred_main, y_pred_aux = tfsm_layer((X_new_wide, X_new_deep))"
      ]
    },
    {
      "cell_type": "markdown",
      "metadata": {
        "id": "i988IW3EQckI"
      },
      "source": [
        "**Warning**: Keras now requires the saved weights to have the `.weights.h5` extension. There are no longer saved using the `SavedModel` format."
      ]
    },
    {
      "cell_type": "code",
      "execution_count": null,
      "metadata": {
        "id": "exEdG12HQckI"
      },
      "outputs": [],
      "source": [
        "model.save_weights(\"my_weights.weights.h5\")"
      ]
    },
    {
      "cell_type": "code",
      "execution_count": null,
      "metadata": {
        "id": "VADUcVxhQckI"
      },
      "outputs": [],
      "source": [
        "model.load_weights(\"my_weights.weights.h5\")"
      ]
    },
    {
      "cell_type": "markdown",
      "metadata": {
        "id": "jscdWHtyQckI"
      },
      "source": [
        "To save a model using the `.keras` format, simply use `model.save()`:"
      ]
    },
    {
      "cell_type": "code",
      "execution_count": null,
      "metadata": {
        "id": "4MLNPYQWQckJ"
      },
      "outputs": [],
      "source": [
        "model.save(\"my_model.keras\")"
      ]
    },
    {
      "cell_type": "markdown",
      "metadata": {
        "id": "Lg-3G7M6QckJ"
      },
      "source": [
        "To load a `.keras` model, use the `tf.keras.models.load_model()` function. If the model uses any custom object, you must pass them to the function via the `custom_objects` argument:"
      ]
    },
    {
      "cell_type": "code",
      "execution_count": null,
      "metadata": {
        "id": "SitvcbVdQckJ"
      },
      "outputs": [],
      "source": [
        "loaded_model = tf.keras.models.load_model(\n",
        "    \"my_model.keras\",\n",
        "    custom_objects={\"WideAndDeepModel\": WideAndDeepModel}\n",
        ")"
      ]
    },
    {
      "cell_type": "markdown",
      "metadata": {
        "id": "4FNgmnJeQckJ"
      },
      "source": [
        "## Using Callbacks"
      ]
    },
    {
      "cell_type": "code",
      "execution_count": null,
      "metadata": {
        "id": "Ywpz7uN4QckJ"
      },
      "outputs": [],
      "source": [
        "shutil.rmtree(\"my_checkpoints\", ignore_errors=True)  # extra code"
      ]
    },
    {
      "cell_type": "markdown",
      "metadata": {
        "id": "T0Q8twKEQckJ"
      },
      "source": [
        "**Warning**: as explained earlier, Keras now requires the checkpoint files to have a `.weights.h5` extension:"
      ]
    },
    {
      "cell_type": "code",
      "execution_count": null,
      "metadata": {
        "id": "nMu0TQCrQckJ"
      },
      "outputs": [],
      "source": [
        "checkpoint_cb = tf.keras.callbacks.ModelCheckpoint(\"my_checkpoints.weights.h5\",\n",
        "                                                   save_weights_only=True)\n",
        "history = model.fit(\n",
        "    (X_train_wide, X_train_deep), (y_train, y_train), epochs=10,\n",
        "    validation_data=((X_valid_wide, X_valid_deep), (y_valid, y_valid)),\n",
        "    callbacks=[checkpoint_cb])"
      ]
    },
    {
      "cell_type": "code",
      "execution_count": null,
      "metadata": {
        "id": "x-m5Dn8DQckJ"
      },
      "outputs": [],
      "source": [
        "early_stopping_cb = tf.keras.callbacks.EarlyStopping(patience=10,\n",
        "                                                     restore_best_weights=True)\n",
        "history = model.fit(\n",
        "    (X_train_wide, X_train_deep), (y_train, y_train), epochs=100,\n",
        "    validation_data=((X_valid_wide, X_valid_deep), (y_valid, y_valid)),\n",
        "    callbacks=[checkpoint_cb, early_stopping_cb])"
      ]
    },
    {
      "cell_type": "code",
      "execution_count": null,
      "metadata": {
        "id": "F-yLbN3fQckJ"
      },
      "outputs": [],
      "source": [
        "class PrintValTrainRatioCallback(tf.keras.callbacks.Callback):\n",
        "    def on_epoch_end(self, epoch, logs):\n",
        "        ratio = logs[\"val_loss\"] / logs[\"loss\"]\n",
        "        print(f\"Epoch={epoch}, val/train={ratio:.2f}\")"
      ]
    },
    {
      "cell_type": "code",
      "execution_count": null,
      "metadata": {
        "id": "TG3SZ1QSQckJ"
      },
      "outputs": [],
      "source": [
        "val_train_ratio_cb = PrintValTrainRatioCallback()\n",
        "history = model.fit(\n",
        "    (X_train_wide, X_train_deep), (y_train, y_train), epochs=10,\n",
        "    validation_data=((X_valid_wide, X_valid_deep), (y_valid, y_valid)),\n",
        "    callbacks=[val_train_ratio_cb], verbose=0)"
      ]
    },
    {
      "cell_type": "markdown",
      "metadata": {
        "id": "cXDqDtccQckJ"
      },
      "source": [
        "## Using TensorBoard for Visualization"
      ]
    },
    {
      "cell_type": "markdown",
      "metadata": {
        "id": "ehXk5FiyQckJ"
      },
      "source": [
        "TensorBoard is preinstalled on Colab, but not the `tensorboard-plugin-profile`, so let's install it:"
      ]
    },
    {
      "cell_type": "code",
      "execution_count": null,
      "metadata": {
        "id": "qFcT59ZOQckK"
      },
      "outputs": [],
      "source": [
        "if \"google.colab\" in sys.modules:  # extra code\n",
        "    %pip install -q -U tensorboard-plugin-profile"
      ]
    },
    {
      "cell_type": "code",
      "execution_count": null,
      "metadata": {
        "tags": [],
        "id": "rFTB4t6eQckK"
      },
      "outputs": [],
      "source": [
        "shutil.rmtree(\"my_logs\", ignore_errors=True)"
      ]
    },
    {
      "cell_type": "code",
      "execution_count": null,
      "metadata": {
        "id": "6S7QoXCYQckK"
      },
      "outputs": [],
      "source": [
        "from pathlib import Path\n",
        "from time import strftime\n",
        "\n",
        "def get_run_logdir(root_logdir=\"my_logs\"):\n",
        "    return Path(root_logdir) / strftime(\"run_%Y_%m_%d_%H_%M_%S\")\n",
        "\n",
        "run_logdir = get_run_logdir()"
      ]
    },
    {
      "cell_type": "code",
      "execution_count": null,
      "metadata": {
        "id": "gk1a0jLfQckK"
      },
      "outputs": [],
      "source": [
        "# extra code – builds the first regression model we used earlier\n",
        "tf.keras.backend.clear_session()\n",
        "tf.random.set_seed(42)\n",
        "norm_layer = tf.keras.layers.Normalization(input_shape=X_train.shape[1:])\n",
        "model = tf.keras.Sequential([\n",
        "    norm_layer,\n",
        "    tf.keras.layers.Dense(30, activation=\"relu\"),\n",
        "    tf.keras.layers.Dense(30, activation=\"relu\"),\n",
        "    tf.keras.layers.Dense(1)\n",
        "])\n",
        "optimizer = tf.keras.optimizers.SGD(learning_rate=1e-3)\n",
        "model.compile(loss=\"mse\", optimizer=optimizer, metrics=[\"RootMeanSquaredError\"])\n",
        "norm_layer.adapt(X_train)"
      ]
    },
    {
      "cell_type": "code",
      "execution_count": null,
      "metadata": {
        "id": "KW3YcVBPQckK"
      },
      "outputs": [],
      "source": [
        "tensorboard_cb = tf.keras.callbacks.TensorBoard(run_logdir,\n",
        "                                                profile_batch=(100, 200))\n",
        "history = model.fit(X_train, y_train, epochs=20,\n",
        "                    validation_data=(X_valid, y_valid),\n",
        "                    callbacks=[tensorboard_cb])"
      ]
    },
    {
      "cell_type": "code",
      "execution_count": null,
      "metadata": {
        "id": "bYXsg8ulQckK"
      },
      "outputs": [],
      "source": [
        "print(\"my_logs\")\n",
        "for path in sorted(Path(\"my_logs\").glob(\"**/*\")):\n",
        "    print(\"  \" * (len(path.parts) - 1) + path.parts[-1])"
      ]
    },
    {
      "cell_type": "markdown",
      "metadata": {
        "id": "3fSjZ6QcQckK"
      },
      "source": [
        "Let's load the `tensorboard` Jupyter extension and start the TensorBoard server:"
      ]
    },
    {
      "cell_type": "code",
      "execution_count": null,
      "metadata": {
        "id": "CFxioYsxQckL"
      },
      "outputs": [],
      "source": [
        "%load_ext tensorboard\n",
        "%tensorboard --logdir=./my_logs"
      ]
    },
    {
      "cell_type": "markdown",
      "metadata": {
        "id": "VOjnG2IDQckL"
      },
      "source": [
        "**Note**: if you prefer to access TensorBoard in a separate tab, click the \"localhost:6006\" link below:"
      ]
    },
    {
      "cell_type": "code",
      "execution_count": null,
      "metadata": {
        "id": "-oUd5FF9QckL"
      },
      "outputs": [],
      "source": [
        "# extra code\n",
        "\n",
        "if \"google.colab\" in sys.modules:\n",
        "    from google.colab import output\n",
        "\n",
        "    output.serve_kernel_port_as_window(6006)\n",
        "else:\n",
        "    from IPython.display import display, HTML\n",
        "\n",
        "    display(HTML('<a href=\"http://localhost:6006/\">http://localhost:6006/</a>'))"
      ]
    },
    {
      "cell_type": "markdown",
      "metadata": {
        "id": "EQW-yA1jQckL"
      },
      "source": [
        "You can use also visualize histograms, images, text, and even listen to audio using TensorBoard:"
      ]
    },
    {
      "cell_type": "code",
      "execution_count": null,
      "metadata": {
        "id": "0WsxxdOJQckL"
      },
      "outputs": [],
      "source": [
        "test_logdir = get_run_logdir()\n",
        "writer = tf.summary.create_file_writer(str(test_logdir))\n",
        "with writer.as_default():\n",
        "    for step in range(1, 1000 + 1):\n",
        "        tf.summary.scalar(\"my_scalar\", np.sin(step / 10), step=step)\n",
        "\n",
        "        data = (np.random.randn(100) + 2) * step / 100  # gets larger\n",
        "        tf.summary.histogram(\"my_hist\", data, buckets=50, step=step)\n",
        "\n",
        "        images = np.random.rand(2, 32, 32, 3) * step / 1000  # gets brighter\n",
        "        tf.summary.image(\"my_images\", images, step=step)\n",
        "\n",
        "        texts = [\"The step is \" + str(step), \"Its square is \" + str(step ** 2)]\n",
        "        tf.summary.text(\"my_text\", texts, step=step)\n",
        "\n",
        "        sine_wave = tf.math.sin(tf.range(12000) / 48000 * 2 * np.pi * step)\n",
        "        audio = tf.reshape(tf.cast(sine_wave, tf.float32), [1, -1, 1])\n",
        "        tf.summary.audio(\"my_audio\", audio, sample_rate=48000, step=step)"
      ]
    },
    {
      "cell_type": "markdown",
      "metadata": {
        "id": "PuheC_rQQckL"
      },
      "source": [
        "**Note**: it used to be possible to easily share your TensorBoard logs with the world by uploading them to https://tensorboard.dev/. Sadly, this service will shut down in December 2023, so I have removed the corresponding code examples from this notebook."
      ]
    },
    {
      "cell_type": "markdown",
      "metadata": {
        "id": "m4wuByIwQckL"
      },
      "source": [
        "When you stop this Jupyter kernel (a.k.a. Runtime), it will automatically stop the TensorBoard server as well. Another way to stop the TensorBoard server is to kill it, if you are running on Linux or MacOSX. First, you need to find its process ID:"
      ]
    },
    {
      "cell_type": "code",
      "execution_count": null,
      "metadata": {
        "id": "yNwulco7QckL"
      },
      "outputs": [],
      "source": [
        "# extra code – lists all running TensorBoard server instances\n",
        "\n",
        "from tensorboard import notebook\n",
        "\n",
        "notebook.list()"
      ]
    },
    {
      "cell_type": "markdown",
      "metadata": {
        "id": "r9k47hO-QckL"
      },
      "source": [
        "Next you can use the following command on Linux or MacOSX, replacing `<pid>` with the pid listed above:\n",
        "\n",
        "    !kill <pid>\n",
        "\n",
        "On Windows:\n",
        "\n",
        "    !taskkill /F /PID <pid>"
      ]
    },
    {
      "cell_type": "markdown",
      "metadata": {
        "id": "P8p_xl2hQckL"
      },
      "source": [
        "# Fine-Tuning Neural Network Hyperparameters"
      ]
    },
    {
      "cell_type": "markdown",
      "metadata": {
        "id": "HdZbRfEdQckL"
      },
      "source": [
        "In this section we'll use the Fashion MNIST dataset again:"
      ]
    },
    {
      "cell_type": "code",
      "execution_count": null,
      "metadata": {
        "id": "TKjrG7LQQckL"
      },
      "outputs": [],
      "source": [
        "(X_train_full, y_train_full), (X_test, y_test) = fashion_mnist\n",
        "X_train, y_train = X_train_full[:-5000], y_train_full[:-5000]\n",
        "X_valid, y_valid = X_train_full[-5000:], y_train_full[-5000:]"
      ]
    },
    {
      "cell_type": "code",
      "execution_count": null,
      "metadata": {
        "id": "Z-z3RY7fQckL"
      },
      "outputs": [],
      "source": [
        "tf.keras.backend.clear_session()\n",
        "tf.random.set_seed(42)"
      ]
    },
    {
      "cell_type": "code",
      "execution_count": null,
      "metadata": {
        "id": "wYBlAtykQckL"
      },
      "outputs": [],
      "source": [
        "if \"google.colab\" in sys.modules:\n",
        "    %pip install -q -U keras_tuner~=1.4.6"
      ]
    },
    {
      "cell_type": "code",
      "execution_count": null,
      "metadata": {
        "id": "k-tUns1VQckL"
      },
      "outputs": [],
      "source": [
        "import keras_tuner as kt\n",
        "\n",
        "def build_model(hp):\n",
        "    n_hidden = hp.Int(\"n_hidden\", min_value=0, max_value=8, default=2)\n",
        "    n_neurons = hp.Int(\"n_neurons\", min_value=16, max_value=256)\n",
        "    learning_rate = hp.Float(\"learning_rate\", min_value=1e-4, max_value=1e-2,\n",
        "                             sampling=\"log\")\n",
        "    optimizer = hp.Choice(\"optimizer\", values=[\"sgd\", \"adam\"])\n",
        "    if optimizer == \"sgd\":\n",
        "        optimizer = tf.keras.optimizers.SGD(learning_rate=learning_rate)\n",
        "    else:\n",
        "        optimizer = tf.keras.optimizers.Adam(learning_rate=learning_rate)\n",
        "\n",
        "    model = tf.keras.Sequential()\n",
        "    model.add(tf.keras.layers.Flatten())\n",
        "    for _ in range(n_hidden):\n",
        "        model.add(tf.keras.layers.Dense(n_neurons, activation=\"relu\"))\n",
        "    model.add(tf.keras.layers.Dense(10, activation=\"softmax\"))\n",
        "    model.compile(loss=\"sparse_categorical_crossentropy\", optimizer=optimizer,\n",
        "                  metrics=[\"accuracy\"])\n",
        "    return model"
      ]
    },
    {
      "cell_type": "code",
      "execution_count": null,
      "metadata": {
        "id": "hESnLqfrQckM"
      },
      "outputs": [],
      "source": [
        "random_search_tuner = kt.RandomSearch(\n",
        "    build_model, objective=\"val_accuracy\", max_trials=5, overwrite=True,\n",
        "    directory=\"my_fashion_mnist\", project_name=\"my_rnd_search\", seed=42)\n",
        "random_search_tuner.search(X_train, y_train, epochs=10,\n",
        "                           validation_data=(X_valid, y_valid))"
      ]
    },
    {
      "cell_type": "code",
      "execution_count": null,
      "metadata": {
        "id": "m1rxSGKbQckM"
      },
      "outputs": [],
      "source": [
        "top3_models = random_search_tuner.get_best_models(num_models=3)\n",
        "best_model = top3_models[0]"
      ]
    },
    {
      "cell_type": "code",
      "execution_count": null,
      "metadata": {
        "id": "tPJjLbSIQckM"
      },
      "outputs": [],
      "source": [
        "top3_params = random_search_tuner.get_best_hyperparameters(num_trials=3)\n",
        "top3_params[0].values  # best hyperparameter values"
      ]
    },
    {
      "cell_type": "code",
      "execution_count": null,
      "metadata": {
        "id": "SZOjTjpBQckM"
      },
      "outputs": [],
      "source": [
        "best_trial = random_search_tuner.oracle.get_best_trials(num_trials=1)[0]\n",
        "best_trial.summary()"
      ]
    },
    {
      "cell_type": "code",
      "execution_count": null,
      "metadata": {
        "id": "ywYnADoDQckM"
      },
      "outputs": [],
      "source": [
        "best_trial.metrics.get_last_value(\"val_accuracy\")"
      ]
    },
    {
      "cell_type": "code",
      "execution_count": null,
      "metadata": {
        "id": "_03eQ-E-QckM"
      },
      "outputs": [],
      "source": [
        "best_model.fit(X_train_full, y_train_full, epochs=10)\n",
        "test_loss, test_accuracy = best_model.evaluate(X_test, y_test)"
      ]
    },
    {
      "cell_type": "code",
      "execution_count": null,
      "metadata": {
        "id": "NNeGqigtQckM"
      },
      "outputs": [],
      "source": [
        "class MyClassificationHyperModel(kt.HyperModel):\n",
        "    def build(self, hp):\n",
        "        return build_model(hp)\n",
        "\n",
        "    def fit(self, hp, model, X, y, **kwargs):\n",
        "        if hp.Boolean(\"normalize\"):\n",
        "            norm_layer = tf.keras.layers.Normalization()\n",
        "            X = norm_layer(X)\n",
        "        return model.fit(X, y, **kwargs)"
      ]
    },
    {
      "cell_type": "code",
      "execution_count": null,
      "metadata": {
        "id": "6kME7LBTQckM"
      },
      "outputs": [],
      "source": [
        "hyperband_tuner = kt.Hyperband(\n",
        "    MyClassificationHyperModel(), objective=\"val_accuracy\", seed=42,\n",
        "    max_epochs=10, factor=3, hyperband_iterations=2,\n",
        "    overwrite=True, directory=\"my_fashion_mnist\", project_name=\"hyperband\")"
      ]
    },
    {
      "cell_type": "code",
      "execution_count": null,
      "metadata": {
        "id": "nZOHrjpMQckM"
      },
      "outputs": [],
      "source": [
        "root_logdir = Path(hyperband_tuner.project_dir) / \"tensorboard\"\n",
        "tensorboard_cb = tf.keras.callbacks.TensorBoard(root_logdir)\n",
        "early_stopping_cb = tf.keras.callbacks.EarlyStopping(patience=2)\n",
        "hyperband_tuner.search(X_train, y_train, epochs=10,\n",
        "                       validation_data=(X_valid, y_valid),\n",
        "                       callbacks=[early_stopping_cb, tensorboard_cb])"
      ]
    },
    {
      "cell_type": "code",
      "execution_count": null,
      "metadata": {
        "id": "C5EX3VlKQckM"
      },
      "outputs": [],
      "source": [
        "bayesian_opt_tuner = kt.BayesianOptimization(\n",
        "    MyClassificationHyperModel(), objective=\"val_accuracy\", seed=42,\n",
        "    max_trials=10, alpha=1e-4, beta=2.6,\n",
        "    overwrite=True, directory=\"my_fashion_mnist\", project_name=\"bayesian_opt\")\n",
        "bayesian_opt_tuner.search(X_train, y_train, epochs=10,\n",
        "                          validation_data=(X_valid, y_valid),\n",
        "                          callbacks=[early_stopping_cb])"
      ]
    },
    {
      "cell_type": "code",
      "execution_count": null,
      "metadata": {
        "id": "FlvWpt37QckM"
      },
      "outputs": [],
      "source": [
        "%tensorboard --logdir {root_logdir}"
      ]
    },
    {
      "cell_type": "markdown",
      "metadata": {
        "id": "1ts5Q7c7QckN"
      },
      "source": [
        "# Exercise solutions"
      ]
    },
    {
      "cell_type": "markdown",
      "metadata": {
        "id": "h-EYoy6oQckN"
      },
      "source": [
        "## 1. to 9."
      ]
    },
    {
      "cell_type": "markdown",
      "metadata": {
        "id": "G8CR-rh7QckN"
      },
      "source": [
        "1. Visit the [TensorFlow Playground](https://playground.tensorflow.org/) and play around with it, as described in this exercise.\n",
        "2. Here is a neural network based on the original artificial neurons that computes _A_ ⊕ _B_ (where ⊕ represents the exclusive OR), using the fact that _A_ ⊕ _B_ = (_A_ ∧ ¬ _B_) ∨ (¬ _A_ ∧ _B_). There are other solutions—for example, using the fact that _A_ ⊕ _B_ = (_A_ ∨ _B_) ∧ ¬(_A_ ∧ _B_), or the fact that _A_ ⊕ _B_ = (_A_ ∨ _B_) ∧ (¬ _A_ ∨ ¬ _B_), and so on.<br /><img width=\"70%\" src=\"https://github.com/ageron/handson-ml3/blob/main/images/ann/exercise2.png?raw=1\" />\n",
        "3. A classical Perceptron will converge only if the dataset is linearly separable, and it won't be able to estimate class probabilities. In contrast, a Logistic Regression classifier will generally converge to a reasonably good solution even if the dataset is not linearly separable, and it will output class probabilities. If you change the Perceptron's activation function to the sigmoid activation function (or the softmax activation function if there are multiple neurons), and if you train it using Gradient Descent (or some other optimization algorithm minimizing the cost function, typically cross entropy), then it becomes equivalent to a Logistic Regression classifier.\n",
        "4. The sigmoid activation function was a key ingredient in training the first MLPs because its derivative is always nonzero, so Gradient Descent can always roll down the slope. When the activation function is a step function, Gradient Descent cannot move, as there is no slope at all.\n",
        "5. Popular activation functions include the step function, the sigmoid function, the hyperbolic tangent (tanh) function, and the Rectified Linear Unit (ReLU) function (see Figure 10-8). See Chapter 11 for other examples, such as ELU and variants of the ReLU function.\n",
        "6. Considering the MLP described in the question, composed of one input layer with 10 passthrough neurons, followed by one hidden layer with 50 artificial neurons, and finally one output layer with 3 artificial neurons, where all artificial neurons use the ReLU activation function:\n",
        "    * The shape of the input matrix **X** is _m_ × 10, where _m_ represents the training batch size.\n",
        "    * The shape of the hidden layer's weight matrix **W**<sub>_h_</sub> is 10 × 50, and the length of its bias vector **b**<sub>_h_</sub> is 50.\n",
        "    * The shape of the output layer's weight matrix **W**<sub>_o_</sub> is 50 × 3, and the length of its bias vector **b**<sub>_o_</sub> is 3.\n",
        "    * The shape of the network's output matrix **Y** is _m_ × 3.\n",
        "    * **Y** = ReLU(ReLU(**X** **W**<sub>_h_</sub> + **b**<sub>_h_</sub>) **W**<sub>_o_</sub> + **b**<sub>_o_</sub>). Recall that the ReLU function just sets every negative number in the matrix to zero. Also note that when you are adding a bias vector to a matrix, it is added to every single row in the matrix, which is called _broadcasting_.\n",
        "7. To classify email into spam or ham, you just need one neuron in the output layer of a neural network—for example, indicating the probability that the email is spam. You would typically use the sigmoid activation function in the output layer when estimating a probability. If instead you want to tackle MNIST, you need 10 neurons in the output layer, and you must replace the sigmoid function with the softmax activation function, which can handle multiple classes, outputting one probability per class. If you want your neural network to predict housing prices like in Chapter 2, then you need one output neuron, using no activation function at all in the output layer. Note: when the values to predict can vary by many orders of magnitude, you may want to predict the logarithm of the target value rather than the target value directly. Simply computing the exponential of the neural network's output will give you the estimated value (since exp(log _v_) = _v_).\n",
        "8. Backpropagation is a technique used to train artificial neural networks. It first computes the gradients of the cost function with regard to every model parameter (all the weights and biases), then it performs a Gradient Descent step using these gradients. This backpropagation step is typically performed thousands or millions of times, using many training batches, until the model parameters converge to values that (hopefully) minimize the cost function. To compute the gradients, backpropagation uses reverse-mode autodiff (although it wasn't called that when backpropagation was invented, and it has been reinvented several times). Reverse-mode autodiff performs a forward pass through a computation graph, computing every node's value for the current training batch, and then it performs a reverse pass, computing all the gradients at once (see Appendix B for more details). So what's the difference? Well, backpropagation refers to the whole process of training an artificial neural network using multiple backpropagation steps, each of which computes gradients and uses them to perform a Gradient Descent step. In contrast, reverse-mode autodiff is just a technique to compute gradients efficiently, and it happens to be used by backpropagation.\n",
        "9. Here is a list of all the hyperparameters you can tweak in a basic MLP: the number of hidden layers, the number of neurons in each hidden layer, and the activation function used in each hidden layer and in the output layer. In general, the ReLU activation function (or one of its variants; see Chapter 11) is a good default for the hidden layers. For the output layer, in general you will want the sigmoid activation function for binary classification, the softmax activation function for multiclass classification, or no activation function for regression. If the MLP overfits the training data, you can try reducing the number of hidden layers and reducing the number of neurons per hidden layer."
      ]
    },
    {
      "cell_type": "markdown",
      "metadata": {
        "id": "MHiLJmWSQckN"
      },
      "source": [
        "## 10."
      ]
    },
    {
      "cell_type": "markdown",
      "metadata": {
        "id": "fernPmsOQckN"
      },
      "source": [
        "*Exercise: Train a deep MLP on the MNIST dataset (you can load it using `tf.keras.datasets.mnist.load_data()`. See if you can get over 98% accuracy by manually tuning the hyperparameters. Try searching for the optimal learning rate by using the approach presented in this chapter (i.e., by growing the learning rate exponentially, plotting the loss, and finding the point where the loss shoots up). Next, try tuning the hyperparameters using Keras Tuner with all the bells and whistles—save checkpoints, use early stopping, and plot learning curves using TensorBoard.*"
      ]
    },
    {
      "cell_type": "markdown",
      "metadata": {
        "id": "d_FusPp1QckN"
      },
      "source": [
        "**TODO**: update this solution to use Keras Tuner."
      ]
    },
    {
      "cell_type": "markdown",
      "metadata": {
        "id": "rYMYXpLnQckN"
      },
      "source": [
        "Let's load the dataset:"
      ]
    },
    {
      "cell_type": "code",
      "execution_count": null,
      "metadata": {
        "id": "B3hST7KnQckN"
      },
      "outputs": [],
      "source": [
        "(X_train_full, y_train_full), (X_test, y_test) = tf.keras.datasets.mnist.load_data()"
      ]
    },
    {
      "cell_type": "markdown",
      "metadata": {
        "id": "3zfSKz28QckN"
      },
      "source": [
        "Just like for the Fashion MNIST dataset, the MNIST training set contains 60,000 grayscale images, each 28x28 pixels:"
      ]
    },
    {
      "cell_type": "code",
      "execution_count": null,
      "metadata": {
        "id": "mqMyHS8qQckN"
      },
      "outputs": [],
      "source": [
        "X_train_full.shape"
      ]
    },
    {
      "cell_type": "markdown",
      "metadata": {
        "id": "8RJFit4PQckN"
      },
      "source": [
        "Each pixel intensity is also represented as a byte (0 to 255):"
      ]
    },
    {
      "cell_type": "code",
      "execution_count": null,
      "metadata": {
        "id": "PuJNCZBrQckN"
      },
      "outputs": [],
      "source": [
        "X_train_full.dtype"
      ]
    },
    {
      "cell_type": "markdown",
      "metadata": {
        "id": "n_X4xRj9QckN"
      },
      "source": [
        "Let's split the full training set into a validation set and a (smaller) training set. We also scale the pixel intensities down to the 0-1 range and convert them to floats, by dividing by 255, just like we did for Fashion MNIST:"
      ]
    },
    {
      "cell_type": "code",
      "execution_count": null,
      "metadata": {
        "id": "-1rn1LvtQckO"
      },
      "outputs": [],
      "source": [
        "X_valid, X_train = X_train_full[:5000] / 255., X_train_full[5000:] / 255.\n",
        "y_valid, y_train = y_train_full[:5000], y_train_full[5000:]\n",
        "X_test = X_test / 255."
      ]
    },
    {
      "cell_type": "markdown",
      "metadata": {
        "id": "X2Mt61x5QckO"
      },
      "source": [
        "Let's plot an image using Matplotlib's `imshow()` function, with a `'binary'`\n",
        " color map:"
      ]
    },
    {
      "cell_type": "code",
      "execution_count": null,
      "metadata": {
        "id": "AewczEdDQckO"
      },
      "outputs": [],
      "source": [
        "plt.imshow(X_train[0], cmap=\"binary\")\n",
        "plt.axis('off')\n",
        "plt.show()"
      ]
    },
    {
      "cell_type": "markdown",
      "metadata": {
        "id": "yvn7gkuoQckO"
      },
      "source": [
        "The labels are the class IDs (represented as uint8), from 0 to 9. Conveniently, the class IDs correspond to the digits represented in the images, so we don't need a `class_names` array:"
      ]
    },
    {
      "cell_type": "code",
      "execution_count": null,
      "metadata": {
        "id": "bJOdEq0JQckO"
      },
      "outputs": [],
      "source": [
        "y_train"
      ]
    },
    {
      "cell_type": "markdown",
      "metadata": {
        "id": "sQWRfS2XQckO"
      },
      "source": [
        "The validation set contains 5,000 images, and the test set contains 10,000 images:"
      ]
    },
    {
      "cell_type": "code",
      "execution_count": null,
      "metadata": {
        "id": "CbTGyOQGQckO"
      },
      "outputs": [],
      "source": [
        "X_valid.shape"
      ]
    },
    {
      "cell_type": "code",
      "execution_count": null,
      "metadata": {
        "id": "HdbPrWEMQckO"
      },
      "outputs": [],
      "source": [
        "X_test.shape"
      ]
    },
    {
      "cell_type": "markdown",
      "metadata": {
        "id": "61M573_WQckO"
      },
      "source": [
        "Let's take a look at a sample of the images in the dataset:"
      ]
    },
    {
      "cell_type": "code",
      "execution_count": null,
      "metadata": {
        "id": "p8qTZKLAQckO"
      },
      "outputs": [],
      "source": [
        "n_rows = 4\n",
        "n_cols = 10\n",
        "plt.figure(figsize=(n_cols * 1.2, n_rows * 1.2))\n",
        "for row in range(n_rows):\n",
        "    for col in range(n_cols):\n",
        "        index = n_cols * row + col\n",
        "        plt.subplot(n_rows, n_cols, index + 1)\n",
        "        plt.imshow(X_train[index], cmap=\"binary\", interpolation=\"nearest\")\n",
        "        plt.axis('off')\n",
        "        plt.title(y_train[index])\n",
        "plt.subplots_adjust(wspace=0.2, hspace=0.5)\n",
        "plt.show()"
      ]
    },
    {
      "cell_type": "markdown",
      "metadata": {
        "id": "acTztgkGQckO"
      },
      "source": [
        "Let's build a simple dense network and find the optimal learning rate. We will need a callback to grow the learning rate at each iteration. It will also record the learning rate and the loss at each iteration:"
      ]
    },
    {
      "cell_type": "code",
      "execution_count": null,
      "metadata": {
        "id": "PPvsv3veQckO"
      },
      "outputs": [],
      "source": [
        "K = tf.keras.backend\n",
        "\n",
        "class ExponentialLearningRate(tf.keras.callbacks.Callback):\n",
        "    def __init__(self, factor):\n",
        "        self.factor = factor\n",
        "        self.rates = []\n",
        "        self.losses = []\n",
        "\n",
        "    def on_batch_end(self, batch, logs=None):\n",
        "        lr = self.model.optimizer.learning_rate.numpy() * self.factor\n",
        "        self.model.optimizer.learning_rate = lr\n",
        "        self.rates.append(lr)\n",
        "        self.losses.append(logs[\"loss\"])"
      ]
    },
    {
      "cell_type": "code",
      "execution_count": null,
      "metadata": {
        "id": "xiGLqhVpQckO"
      },
      "outputs": [],
      "source": [
        "tf.keras.backend.clear_session()\n",
        "np.random.seed(42)\n",
        "tf.random.set_seed(42)"
      ]
    },
    {
      "cell_type": "code",
      "execution_count": null,
      "metadata": {
        "id": "_S1W4e4pQckO"
      },
      "outputs": [],
      "source": [
        "model = tf.keras.Sequential([\n",
        "    tf.keras.layers.Flatten(input_shape=[28, 28]),\n",
        "    tf.keras.layers.Dense(300, activation=\"relu\"),\n",
        "    tf.keras.layers.Dense(100, activation=\"relu\"),\n",
        "    tf.keras.layers.Dense(10, activation=\"softmax\")\n",
        "])"
      ]
    },
    {
      "cell_type": "markdown",
      "metadata": {
        "id": "4o_CMjiwQckO"
      },
      "source": [
        "We will start with a small learning rate of 1e-3, and grow it by 0.5% at each iteration:"
      ]
    },
    {
      "cell_type": "code",
      "execution_count": null,
      "metadata": {
        "id": "bUUo0YBGQckO"
      },
      "outputs": [],
      "source": [
        "optimizer = tf.keras.optimizers.SGD(learning_rate=1e-3)\n",
        "model.compile(loss=\"sparse_categorical_crossentropy\", optimizer=optimizer,\n",
        "              metrics=[\"accuracy\"])\n",
        "expon_lr = ExponentialLearningRate(factor=1.005)"
      ]
    },
    {
      "cell_type": "markdown",
      "metadata": {
        "id": "jyGs7J7DQckO"
      },
      "source": [
        "Now let's train the model for just 1 epoch:"
      ]
    },
    {
      "cell_type": "code",
      "execution_count": null,
      "metadata": {
        "id": "jDD_qoksQckO"
      },
      "outputs": [],
      "source": [
        "history = model.fit(X_train, y_train, epochs=1,\n",
        "                    validation_data=(X_valid, y_valid),\n",
        "                    callbacks=[expon_lr])"
      ]
    },
    {
      "cell_type": "markdown",
      "metadata": {
        "id": "7ZsPmxb9QckP"
      },
      "source": [
        "We can now plot the loss as a functionof the learning rate:"
      ]
    },
    {
      "cell_type": "code",
      "execution_count": null,
      "metadata": {
        "id": "Y36otFsBQckP"
      },
      "outputs": [],
      "source": [
        "plt.plot(expon_lr.rates, expon_lr.losses)\n",
        "plt.gca().set_xscale('log')\n",
        "plt.hlines(min(expon_lr.losses), min(expon_lr.rates), max(expon_lr.rates))\n",
        "plt.axis([min(expon_lr.rates), max(expon_lr.rates), 0, expon_lr.losses[0]])\n",
        "plt.grid()\n",
        "plt.xlabel(\"Learning rate\")\n",
        "plt.ylabel(\"Loss\")"
      ]
    },
    {
      "cell_type": "markdown",
      "metadata": {
        "id": "MIjd78ErQckP"
      },
      "source": [
        "The loss starts shooting back up violently when the learning rate goes over 6e-1, so let's try using half of that, at 3e-1:"
      ]
    },
    {
      "cell_type": "code",
      "execution_count": null,
      "metadata": {
        "id": "eswj79o4QckQ"
      },
      "outputs": [],
      "source": [
        "tf.keras.backend.clear_session()\n",
        "np.random.seed(42)\n",
        "tf.random.set_seed(42)"
      ]
    },
    {
      "cell_type": "code",
      "execution_count": null,
      "metadata": {
        "id": "xilv32mwQckQ"
      },
      "outputs": [],
      "source": [
        "model = tf.keras.Sequential([\n",
        "    tf.keras.layers.Flatten(input_shape=[28, 28]),\n",
        "    tf.keras.layers.Dense(300, activation=\"relu\"),\n",
        "    tf.keras.layers.Dense(100, activation=\"relu\"),\n",
        "    tf.keras.layers.Dense(10, activation=\"softmax\")\n",
        "])"
      ]
    },
    {
      "cell_type": "code",
      "execution_count": null,
      "metadata": {
        "id": "ZG_GWY_EQckQ"
      },
      "outputs": [],
      "source": [
        "optimizer = tf.keras.optimizers.SGD(learning_rate=3e-1)\n",
        "model.compile(loss=\"sparse_categorical_crossentropy\", optimizer=optimizer,\n",
        "              metrics=[\"accuracy\"])"
      ]
    },
    {
      "cell_type": "code",
      "execution_count": null,
      "metadata": {
        "id": "1TPdiZkhQckQ"
      },
      "outputs": [],
      "source": [
        "run_index = 1 # increment this at every run\n",
        "run_logdir = Path() / \"my_mnist_logs\" / \"run_{:03d}\".format(run_index)\n",
        "run_logdir"
      ]
    },
    {
      "cell_type": "code",
      "execution_count": null,
      "metadata": {
        "id": "7PUkmCgvQckQ"
      },
      "outputs": [],
      "source": [
        "early_stopping_cb = tf.keras.callbacks.EarlyStopping(patience=20)\n",
        "checkpoint_cb = tf.keras.callbacks.ModelCheckpoint(\"my_mnist_model.keras\", save_best_only=True)\n",
        "tensorboard_cb = tf.keras.callbacks.TensorBoard(run_logdir)\n",
        "\n",
        "history = model.fit(X_train, y_train, epochs=100,\n",
        "                    validation_data=(X_valid, y_valid),\n",
        "                    callbacks=[checkpoint_cb, early_stopping_cb, tensorboard_cb])"
      ]
    },
    {
      "cell_type": "code",
      "execution_count": null,
      "metadata": {
        "id": "5JzCG_pQQckQ"
      },
      "outputs": [],
      "source": [
        "model = tf.keras.models.load_model(\"my_mnist_model.keras\") # rollback to best model\n",
        "model.evaluate(X_test, y_test)"
      ]
    },
    {
      "cell_type": "markdown",
      "metadata": {
        "id": "bGni77RsQckQ"
      },
      "source": [
        "We got over 98% accuracy. Finally, let's look at the learning curves using TensorBoard:"
      ]
    },
    {
      "cell_type": "code",
      "execution_count": null,
      "metadata": {
        "id": "6acUsm9dQckQ"
      },
      "outputs": [],
      "source": [
        "%tensorboard --logdir=./my_mnist_logs"
      ]
    },
    {
      "cell_type": "code",
      "execution_count": null,
      "metadata": {
        "id": "vCOTjZhRQckQ"
      },
      "outputs": [],
      "source": []
    }
  ],
  "metadata": {
    "kernelspec": {
      "display_name": "Python 3",
      "language": "python",
      "name": "python3"
    },
    "language_info": {
      "codemirror_mode": {
        "name": "ipython",
        "version": 3
      },
      "file_extension": ".py",
      "mimetype": "text/x-python",
      "name": "python",
      "nbconvert_exporter": "python",
      "pygments_lexer": "ipython3",
      "version": "3.9.10"
    },
    "nav_menu": {
      "height": "264px",
      "width": "369px"
    },
    "toc": {
      "navigate_menu": true,
      "number_sections": true,
      "sideBar": true,
      "threshold": 6,
      "toc_cell": false,
      "toc_section_display": "block",
      "toc_window_display": false
    },
    "colab": {
      "provenance": []
    }
  },
  "nbformat": 4,
  "nbformat_minor": 0
}